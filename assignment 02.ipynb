{
 "cells": [
  {
   "cell_type": "markdown",
   "id": "bcb59358-b176-4716-b05a-e4b3b27c0531",
   "metadata": {},
   "source": [
    "1. Write a program that swaps the values of two variables."
   ]
  },
  {
   "cell_type": "code",
   "execution_count": 8,
   "id": "f38a2783-c724-4e07-9918-afb5dc6033ce",
   "metadata": {},
   "outputs": [],
   "source": [
    "x=20\n",
    "y=25"
   ]
  },
  {
   "cell_type": "code",
   "execution_count": null,
   "id": "14d22e1c-2572-4bcc-84a4-f05a4737e243",
   "metadata": {},
   "outputs": [],
   "source": [
    "x , y = y , x"
   ]
  },
  {
   "cell_type": "code",
   "execution_count": 11,
   "id": "6db3fcf8-fb18-42c3-9ff1-1d466e890280",
   "metadata": {},
   "outputs": [
    {
     "name": "stdout",
     "output_type": "stream",
     "text": [
      "x = 25\n",
      "y = 20\n"
     ]
    }
   ],
   "source": [
    "print('x =' , y)\n",
    "print('y =' ,x)"
   ]
  },
  {
   "cell_type": "markdown",
   "id": "9c169917-f4d7-4aab-91fb-3bd046038421",
   "metadata": {},
   "source": [
    "2.Write a program that calculates the area of a rectangle given its length and width."
   ]
  },
  {
   "cell_type": "code",
   "execution_count": 26,
   "id": "f82316e4-0f47-4a2c-9443-606dfca4d423",
   "metadata": {},
   "outputs": [],
   "source": [
    "length=5\n",
    "width=6"
   ]
  },
  {
   "cell_type": "code",
   "execution_count": 27,
   "id": "e065ac1c-f2ff-4d6c-a748-e5500168dc31",
   "metadata": {},
   "outputs": [],
   "source": [
    "area=length*width"
   ]
  },
  {
   "cell_type": "code",
   "execution_count": 28,
   "id": "b267f448-89d6-47da-b101-1fc8e6ae0b55",
   "metadata": {},
   "outputs": [
    {
     "name": "stdout",
     "output_type": "stream",
     "text": [
      "30\n"
     ]
    }
   ],
   "source": [
    "print(area)"
   ]
  },
  {
   "cell_type": "markdown",
   "id": "55031a5f-afa3-40af-b089-46515f2eb09d",
   "metadata": {},
   "source": [
    "3. Write a program that converts temperature from Fahrenheit to Celsius."
   ]
  },
  {
   "cell_type": "code",
   "execution_count": 31,
   "id": "3fc6e52a-6a0d-402d-9395-d8bad29baddf",
   "metadata": {},
   "outputs": [],
   "source": [
    "f=50"
   ]
  },
  {
   "cell_type": "code",
   "execution_count": 34,
   "id": "8716d5db-b70c-49da-9e7c-745846ba1523",
   "metadata": {},
   "outputs": [],
   "source": [
    "celsius=(f-32)*5/9"
   ]
  },
  {
   "cell_type": "code",
   "execution_count": 35,
   "id": "47cd22eb-588f-45a6-bf66-29553a5c013f",
   "metadata": {},
   "outputs": [
    {
     "name": "stdout",
     "output_type": "stream",
     "text": [
      "10.0\n"
     ]
    }
   ],
   "source": [
    "print(celsius)"
   ]
  },
  {
   "cell_type": "markdown",
   "id": "c462d40f-78c6-45ab-a889-666542b9a544",
   "metadata": {},
   "source": [
    "4.Write a program that calculates the volume of a sphere given its radius."
   ]
  },
  {
   "cell_type": "code",
   "execution_count": 53,
   "id": "2a122ded-a846-418e-93bf-382eff86af6e",
   "metadata": {},
   "outputs": [
    {
     "name": "stdin",
     "output_type": "stream",
     "text": [
      "Enter input number 40\n"
     ]
    }
   ],
   "source": [
    "radius=float(input(\"Enter input number\"))"
   ]
  },
  {
   "cell_type": "code",
   "execution_count": 54,
   "id": "c1415038-3d5c-4fc9-8190-0c951fc9deab",
   "metadata": {},
   "outputs": [],
   "source": [
    "volume=(4*3.1416*radius*radius*radius/3)"
   ]
  },
  {
   "cell_type": "code",
   "execution_count": 55,
   "id": "b8668343-bf75-45a5-b004-156b1a637ee7",
   "metadata": {},
   "outputs": [
    {
     "name": "stdout",
     "output_type": "stream",
     "text": [
      "268083.2\n"
     ]
    }
   ],
   "source": [
    "print(volume)"
   ]
  },
  {
   "cell_type": "markdown",
   "id": "6e770861-e2a1-4c0b-ac2e-370168812c1d",
   "metadata": {},
   "source": [
    "5. Write a program that finds the average of three numbers."
   ]
  },
  {
   "cell_type": "code",
   "execution_count": 62,
   "id": "43ee5710-283e-41a9-b52a-35e504e080a8",
   "metadata": {},
   "outputs": [],
   "source": [
    "a=20\n",
    "b=40\n",
    "c=60"
   ]
  },
  {
   "cell_type": "code",
   "execution_count": 63,
   "id": "5c878931-a7ca-4970-a648-cc7ee3c935b0",
   "metadata": {},
   "outputs": [],
   "source": [
    "avg=(a+b+c)/3"
   ]
  },
  {
   "cell_type": "code",
   "execution_count": 64,
   "id": "9025dd0a-2599-4a9b-a0de-0d7177202960",
   "metadata": {},
   "outputs": [
    {
     "name": "stdout",
     "output_type": "stream",
     "text": [
      "40.0\n"
     ]
    }
   ],
   "source": [
    "print(avg)"
   ]
  },
  {
   "cell_type": "markdown",
   "id": "f92f136b-0b8b-46e4-a751-a8052cb8013b",
   "metadata": {},
   "source": [
    "6. Write a program that determines if a number is even or odd."
   ]
  },
  {
   "cell_type": "code",
   "execution_count": 4,
   "id": "cacc2a47-95da-461c-8edd-79e1aa922378",
   "metadata": {},
   "outputs": [
    {
     "name": "stdin",
     "output_type": "stream",
     "text": [
      " 23\n"
     ]
    },
    {
     "name": "stdout",
     "output_type": "stream",
     "text": [
      "x is odd number\n"
     ]
    }
   ],
   "source": [
    "x=int(input())\n",
    "if x%2==0:\n",
    "    print(\"x is even number\")\n",
    "else:\n",
    "    print(\"x is odd number\")"
   ]
  },
  {
   "cell_type": "markdown",
   "id": "f42d31d3-a047-4acd-933d-5ff3cde102ea",
   "metadata": {},
   "source": [
    "7. Write a program that finds the maximum of three numbers."
   ]
  },
  {
   "cell_type": "code",
   "execution_count": 21,
   "id": "e59b5464-4fa0-4099-a5fb-46b487fe217b",
   "metadata": {},
   "outputs": [],
   "source": [
    "a=10\n",
    "b=30\n",
    "c=50"
   ]
  },
  {
   "cell_type": "code",
   "execution_count": 22,
   "id": "52f5af04-a797-4ec6-80d7-82783a3cafe7",
   "metadata": {},
   "outputs": [
    {
     "name": "stdout",
     "output_type": "stream",
     "text": [
      "c is maximum number\n"
     ]
    }
   ],
   "source": [
    "if a>b and a>c:\n",
    "    print(\"a is maximum number\")\n",
    "elif b>a and b>c:\n",
    "    print(\"b is maximum number\")\n",
    "else:\n",
    "    print(\"c is maximum number\")"
   ]
  },
  {
   "cell_type": "markdown",
   "id": "4f583379-5700-4863-9385-421a6823d6ef",
   "metadata": {},
   "source": [
    "8. Write a program that determines if a year is a leap year or not."
   ]
  },
  {
   "cell_type": "code",
   "execution_count": 26,
   "id": "c61550d5-475a-4dee-ab29-38db91b99fec",
   "metadata": {},
   "outputs": [
    {
     "name": "stdout",
     "output_type": "stream",
     "text": [
      "leep year\n"
     ]
    }
   ],
   "source": [
    "year=2028\n",
    "if year % 4==0:\n",
    "    print(\"leep year\")\n",
    "else:\n",
    "    print(\"not leep year\")"
   ]
  },
  {
   "cell_type": "markdown",
   "id": "23a0c6f2-f0b7-4009-bbe3-d7a9c10d04d9",
   "metadata": {},
   "source": [
    "9. Write a program that determines if a number is positive, negative, or zero."
   ]
  },
  {
   "cell_type": "code",
   "execution_count": 30,
   "id": "baf2a77c-0bff-406a-9785-763c097b28d8",
   "metadata": {},
   "outputs": [
    {
     "name": "stdin",
     "output_type": "stream",
     "text": [
      " -4\n"
     ]
    },
    {
     "name": "stdout",
     "output_type": "stream",
     "text": [
      "x is negative number\n"
     ]
    }
   ],
   "source": [
    "x=int(input())\n",
    "if x>0:\n",
    "    print(\"x is positive number\")\n",
    "elif x<0:\n",
    "    print(\"x is negative number\")\n",
    "else:\n",
    "    print(\"x is zero number\")"
   ]
  },
  {
   "cell_type": "code",
   "execution_count": null,
   "id": "898e226b-aace-4629-81c8-baaa8a847f97",
   "metadata": {},
   "outputs": [],
   "source": [
    "10. Write a program that calculates the grade based on a given percentage."
   ]
  },
  {
   "cell_type": "code",
   "execution_count": 51,
   "id": "78556c77-5b83-47c7-b521-a3de1a9e4c25",
   "metadata": {},
   "outputs": [
    {
     "name": "stdin",
     "output_type": "stream",
     "text": [
      " 69\n"
     ]
    },
    {
     "name": "stdout",
     "output_type": "stream",
     "text": [
      "grade A-\n"
     ]
    }
   ],
   "source": [
    "num=int(input())\n",
    "if (num>=90):\n",
    "        print(\"grade A+\")\n",
    "elif(num>=70 and num<80):\n",
    "        print(\"grade A\")\n",
    "elif(num>=60 and num<70):\n",
    "         print(\"grade A-\")\n",
    "elif(num>=50 and num<60):\n",
    "          print(\"grade B\")\n",
    "elif (num>=40 and num<50):\n",
    "          print(\"grade C\")\n",
    "else:\n",
    "     print(\"grade F\")\n",
    "    \n",
    "        "
   ]
  },
  {
   "cell_type": "markdown",
   "id": "0776256a-35ff-408f-91bb-202c7d25aa1d",
   "metadata": {},
   "source": [
    "11. Write a program that prints the first `n` natural numbers"
   ]
  },
  {
   "cell_type": "code",
   "execution_count": 4,
   "id": "283bcbc0-6aaf-484f-a04a-6a0e943a66d9",
   "metadata": {},
   "outputs": [
    {
     "name": "stdin",
     "output_type": "stream",
     "text": [
      " 6\n"
     ]
    },
    {
     "name": "stdout",
     "output_type": "stream",
     "text": [
      "6\n",
      "1 2 3 4 5 6 \n"
     ]
    }
   ],
   "source": [
    "n=int(input())\n",
    "print(n)\n",
    "for i in  range(1,n+1):\n",
    "    print(i,end=\" \")\n",
    "print()\n"
   ]
  },
  {
   "cell_type": "markdown",
   "id": "502785b9-f2b0-4177-a98a-22528efc776b",
   "metadata": {},
   "source": [
    "12. Write a program that calculates the factorial of a number."
   ]
  },
  {
   "cell_type": "code",
   "execution_count": 7,
   "id": "f3c67842-69be-4cc1-8188-5bf6bf27fc61",
   "metadata": {},
   "outputs": [
    {
     "name": "stdin",
     "output_type": "stream",
     "text": [
      " 10\n"
     ]
    },
    {
     "name": "stdout",
     "output_type": "stream",
     "text": [
      "3628800\n"
     ]
    }
   ],
   "source": [
    "n=int(input())\n",
    "result=1\n",
    "for i in range(n):\n",
    "    result=result*(i+1)\n",
    "print(result)"
   ]
  },
  {
   "cell_type": "markdown",
   "id": "9d1c2c10-19c0-473c-a28e-ded8aced1840",
   "metadata": {},
   "source": [
    "13. Write a program that generates a Fibonacci sequence of length `n`."
   ]
  },
  {
   "cell_type": "code",
   "execution_count": 12,
   "id": "d5270d48-5a24-4102-9c58-06ec3ecbc64b",
   "metadata": {},
   "outputs": [
    {
     "name": "stdout",
     "output_type": "stream",
     "text": [
      "0\n",
      "1\n",
      "1\n",
      "2\n",
      "3\n",
      "5\n",
      "8\n",
      "13\n",
      "21\n",
      "34\n"
     ]
    }
   ],
   "source": [
    "def fibonacci(x):\n",
    "    a=0\n",
    "    b=1\n",
    "    print(0)\n",
    "    print(1)\n",
    "    for i in range(2,x):\n",
    "        c=a+b\n",
    "        a=b\n",
    "        b=c\n",
    "        print(c)\n",
    "fibonacci(10)"
   ]
  },
  {
   "cell_type": "markdown",
   "id": "5b277bce-7558-4f89-a2a6-3e90e03c63bd",
   "metadata": {},
   "source": [
    "14. Write a program that checks if a given number is prime or not."
   ]
  },
  {
   "cell_type": "code",
   "execution_count": 5,
   "id": "90fc6f02-7c5c-4588-89dd-04bf54139db0",
   "metadata": {},
   "outputs": [
    {
     "name": "stdin",
     "output_type": "stream",
     "text": [
      " 11\n"
     ]
    },
    {
     "name": "stdout",
     "output_type": "stream",
     "text": [
      "prime number\n"
     ]
    }
   ],
   "source": [
    "num= int(input())\n",
    "for i in range(2,num):\n",
    "    if num % i==0:\n",
    "        print(\"not prime number\")\n",
    "        break\n",
    "else:\n",
    "    print(\"prime number\")"
   ]
  },
  {
   "cell_type": "markdown",
   "id": "5578781d-84ed-4190-86a9-a244cfe9d513",
   "metadata": {},
   "source": [
    "15. Write a program that prints the multiplication table of a given number."
   ]
  },
  {
   "cell_type": "code",
   "execution_count": 14,
   "id": "9254697f-85af-4cbd-948a-b0be1131a873",
   "metadata": {},
   "outputs": [
    {
     "name": "stdout",
     "output_type": "stream",
     "text": [
      "15*1=15\n",
      "15*2=30\n",
      "15*3=45\n",
      "15*4=60\n",
      "15*5=75\n",
      "15*6=90\n",
      "15*7=105\n",
      "15*8=120\n",
      "15*9=135\n",
      "15*10=150\n"
     ]
    }
   ],
   "source": [
    "num=15\n",
    "for i in range(1,11):\n",
    "    print(f\"{num}*{i}={num*i}\")"
   ]
  },
  {
   "cell_type": "markdown",
   "id": "f5267d5d-3bd4-4b15-b0f0-13293bfde383",
   "metadata": {},
   "source": [
    "17. Write a program that reverses a given number."
   ]
  },
  {
   "cell_type": "code",
   "execution_count": 3,
   "id": "19bac3fa-5c29-478e-b9e5-14616ed2b96d",
   "metadata": {},
   "outputs": [
    {
     "name": "stdin",
     "output_type": "stream",
     "text": [
      " 123\n"
     ]
    },
    {
     "name": "stdout",
     "output_type": "stream",
     "text": [
      "321\n"
     ]
    }
   ],
   "source": [
    "number=input()\n",
    "reverses=number[::-1]\n",
    "print(reverses)"
   ]
  },
  {
   "cell_type": "markdown",
   "id": "8fdd8f42-0ba3-4d94-a719-b615e35f9ce2",
   "metadata": {},
   "source": [
    "18 Write a program that checks if a given string, is a palindrome."
   ]
  },
  {
   "cell_type": "code",
   "execution_count": 3,
   "id": "bff4510e-67ae-4925-a336-2d4bb1d2e2be",
   "metadata": {},
   "outputs": [
    {
     "name": "stdin",
     "output_type": "stream",
     "text": [
      "Enter the string madam\n"
     ]
    },
    {
     "name": "stdout",
     "output_type": "stream",
     "text": [
      "is a palindrome string\n"
     ]
    }
   ],
   "source": [
    "string=input(\"Enter the string\")\n",
    "if string==string[::-1]:\n",
    "    print(\"is a palindrome string\")\n",
    "else:\n",
    "    print(\"is a not palidrome string\")\n"
   ]
  },
  {
   "cell_type": "markdown",
   "id": "223b048a-3adb-473a-80f6-7de8ec708a54",
   "metadata": {},
   "source": [
    "19.Write a program that generates a random number and allows the user to guess it."
   ]
  },
  {
   "cell_type": "code",
   "execution_count": 3,
   "id": "b2381573-c8c3-44d5-993e-69e810e57e28",
   "metadata": {},
   "outputs": [
    {
     "name": "stdin",
     "output_type": "stream",
     "text": [
      "guess:  5\n"
     ]
    },
    {
     "name": "stdout",
     "output_type": "stream",
     "text": [
      "you loss\n"
     ]
    },
    {
     "name": "stdin",
     "output_type": "stream",
     "text": [
      "guess:  7\n"
     ]
    },
    {
     "name": "stdout",
     "output_type": "stream",
     "text": [
      "you loss\n"
     ]
    },
    {
     "name": "stdin",
     "output_type": "stream",
     "text": [
      "guess:  9\n"
     ]
    },
    {
     "name": "stdout",
     "output_type": "stream",
     "text": [
      "you win\n"
     ]
    }
   ],
   "source": [
    "Secret_number =9\n",
    "guess_count =1\n",
    "guess_limit=4\n",
    "while guess_count<guess_limit:\n",
    "    guess=int(input(\"guess: \"))\n",
    "    guess_count=+1\n",
    "    if guess ==Secret_number:\n",
    "        print(\"you win\")\n",
    "        break\n",
    "    else:\n",
    "        print(\"you loss\")"
   ]
  },
  {
   "cell_type": "markdown",
   "id": "c4d54f05-7392-4402-b495-d94deb2817e6",
   "metadata": {},
   "source": [
    "20. Write a program that finds the greatest common divisor (GCD) of two numbers."
   ]
  },
  {
   "cell_type": "code",
   "execution_count": null,
   "id": "af83c3d0-4729-4b7d-a4be-34276d75b259",
   "metadata": {},
   "outputs": [],
   "source": [
    "num1=50\n",
    "num2=80\n",
    "a=num1\n",
    "b=num2\n",
    "while num1!=num2:\n",
    "    if num1<num2:\n",
    "        num1-=num2\n",
    "else:\n",
    "    num2-=num1\n",
    "\n",
    "print(\"GCD of\", a, \"and\", b, \"is\", num1)\n"
   ]
  }
 ],
 "metadata": {
  "kernelspec": {
   "display_name": "Python 3 (ipykernel)",
   "language": "python",
   "name": "python3"
  },
  "language_info": {
   "codemirror_mode": {
    "name": "ipython",
    "version": 3
   },
   "file_extension": ".py",
   "mimetype": "text/x-python",
   "name": "python",
   "nbconvert_exporter": "python",
   "pygments_lexer": "ipython3",
   "version": "3.11.5"
  }
 },
 "nbformat": 4,
 "nbformat_minor": 5
}
